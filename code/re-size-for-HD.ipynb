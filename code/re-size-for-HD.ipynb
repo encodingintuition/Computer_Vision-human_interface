{
 "cells": [
  {
   "cell_type": "code",
   "execution_count": null,
   "metadata": {},
   "outputs": [],
   "source": []
  },
  {
   "cell_type": "code",
   "execution_count": 8,
   "metadata": {},
   "outputs": [],
   "source": [
    "import os\n",
    "\n",
    "import cv2\n",
    "import matplotlib.pyplot as plt\n",
    "import numpy as np\n",
    "\n",
    "\n",
    "import tensorflow as tf\n",
    "import tensorflow_datasets as tfds\n",
    "\n",
    "from tensorflow.keras import layers"
   ]
  },
  {
   "cell_type": "code",
   "execution_count": 9,
   "metadata": {},
   "outputs": [
    {
     "name": "stdout",
     "output_type": "stream",
     "text": [
      "IMG_3335.JPG  new_image.jpg\n"
     ]
    }
   ],
   "source": [
    "!ls saved"
   ]
  },
  {
   "cell_type": "code",
   "execution_count": 10,
   "metadata": {},
   "outputs": [],
   "source": [
    "IMG_SIZE = 412\n",
    "source_dir = 'saved'"
   ]
  },
  {
   "cell_type": "code",
   "execution_count": 11,
   "metadata": {},
   "outputs": [],
   "source": [
    "\n",
    "resize_and_rescale = tf.keras.Sequential([\n",
    "  layers.experimental.preprocessing.Resizing(IMG_SIZE, IMG_SIZE),\n",
    "  #layers.experimental.preprocessing.Rescaling(1./255)\n",
    "])\n"
   ]
  },
  {
   "cell_type": "code",
   "execution_count": 12,
   "metadata": {},
   "outputs": [],
   "source": [
    "files = os.listdir(source_dir)"
   ]
  },
  {
   "cell_type": "code",
   "execution_count": null,
   "metadata": {},
   "outputs": [],
   "source": [
    "# resize file to fit HD\n",
    "\n",
    "for file in files:\n",
    "    # read file\n",
    "    #image = tf.keras.preprocessing.image.load_img('saved/image.jpg')\n",
    "    img = cv2.imread(source_dir + '/' + 'file')\n",
    "    height, width, channels = img.shape\n",
    "\n",
    "    # find height-width and convert  \n",
    "    conversion = 720 / height\n",
    "    #weight * x = new_weigth\n",
    "    new_width = width * conversion\n",
    "\n",
    "    # convert height to 720 * width   # height * x = 720     *** maybe even go slightly smaller 70% of origonal size (720 * .7) \n",
    "    img = cv2.resize(img, None, fx=conversion, fy=conversion)\n",
    "    height, width, channels = img.shape     \n",
    "\n",
    "    # see how much extra width it needs to be HD (per side)\n",
    "    padding_needed =  (1280 - width) /2\n",
    "    # padding into variables\n",
    "    top = 0\n",
    "    bottom = 0 \n",
    "    left, right = [int(padding_needed)] *2\n",
    "\n",
    "    # sets color to blk\n",
    "    color = [0, 0, 0] \n",
    "    img_with_border = cv2.copyMakeBorder(img, top, bottom, left, right, cv2.BORDER_CONSTANT, value=color)\n",
    "\n",
    "    # resizes to 412 x 412 \n",
    "        #image = resize_and_rescale(img_with_border)\n",
    "        #blob = cv2.dnn.blobFromImage(img_with_border, 1 / 255.0, (416, 416),\n",
    "        #swapRB=True, crop=False)   \n",
    "    \n",
    "    # save file \n",
    "     cv2.imwrite(source_dir + '/' + 'file',img_with_border) \n",
    "\n",
    "#cv2.imshow(\"Image\",np.array(image))\n",
    "#cv2.waitKey(0) \n",
    "\n",
    "print(img_with_border.shape)\n",
    "np.array(image)\n",
    "print(blob.shape)\n",
    "#tf.expand_dims(blob[0], 2).shape\n",
    "#plt.imshow(image)"
   ]
  },
  {
   "cell_type": "code",
   "execution_count": 7,
   "metadata": {},
   "outputs": [
    {
     "data": {
      "text/plain": [
       "' do i set a random statment for augmentation  '"
      ]
     },
     "execution_count": 7,
     "metadata": {},
     "output_type": "execute_result"
    }
   ],
   "source": [
    "# Create HD format - add padding \n",
    "\n",
    "    # create canvas \n",
    "    \n",
    "    # map image size to center of canvas\n",
    "    \n",
    "\n",
    "# resize image to 412 x 412 \n",
    "\n",
    "\n",
    "# save image \n",
    "\n",
    "    # pre-fix and # \n",
    "\n",
    "\n",
    "\"\"\" do i set a random statment for augmentation  \"\"\"\n",
    "\n",
    "    # do augmentaion #1\n",
    "    \n",
    "    # save (add prefix)\n",
    "    \n",
    "    \n",
    "    # do augmentaion #1\n",
    "    \n",
    "    # save \n",
    "    \n",
    "    \n",
    "    \n",
    "    # do augmentaion #1\n",
    "    \n",
    "    # save "
   ]
  },
  {
   "cell_type": "code",
   "execution_count": null,
   "metadata": {},
   "outputs": [],
   "source": []
  }
 ],
 "metadata": {
  "kernelspec": {
   "display_name": "Python 3",
   "language": "python",
   "name": "python3"
  },
  "language_info": {
   "codemirror_mode": {
    "name": "ipython",
    "version": 3
   },
   "file_extension": ".py",
   "mimetype": "text/x-python",
   "name": "python",
   "nbconvert_exporter": "python",
   "pygments_lexer": "ipython3",
   "version": "3.8.2"
  }
 },
 "nbformat": 4,
 "nbformat_minor": 4
}
