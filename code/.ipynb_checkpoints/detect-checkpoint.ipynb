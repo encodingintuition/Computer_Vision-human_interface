{
 "cells": [
  {
   "cell_type": "markdown",
   "metadata": {},
   "source": [
    "# Detection code for YoloV4 model"
   ]
  },
  {
   "cell_type": "code",
   "execution_count": 1,
   "metadata": {},
   "outputs": [],
   "source": [
    "# Imports\n",
    "\n",
    "import cv2\n",
    "import numpy as np\n",
    "import time"
   ]
  },
  {
   "cell_type": "markdown",
   "metadata": {},
   "source": [
    "#### folders"
   ]
  },
  {
   "cell_type": "code",
   "execution_count": 2,
   "metadata": {},
   "outputs": [
    {
     "name": "stdout",
     "output_type": "stream",
     "text": [
      "ls: /users/metamorphosis/Githubcd: No such file or directory\n"
     ]
    }
   ],
   "source": [
    "! ls /users/metamorphosis/Githubcd"
   ]
  },
  {
   "cell_type": "code",
   "execution_count": 3,
   "metadata": {},
   "outputs": [
    {
     "name": "stdout",
     "output_type": "stream",
     "text": [
      "classes.names                  yolov4_tiny_train_best.weights\n",
      "yolov4_tiny_test.cfg           yolov4_tiny_train_last.weights\n",
      "\u001b[31myolov4_tiny_train.cfg\u001b[m\u001b[m\n"
     ]
    }
   ],
   "source": [
    "! ls ./weights-cfg"
   ]
  },
  {
   "cell_type": "code",
   "execution_count": 4,
   "metadata": {},
   "outputs": [],
   "source": [
    "# Dir path and loading weights / classes\n",
    "\n",
    "# var\n",
    "path = './weights-cfg/'\n",
    "classes = []\n",
    "\n",
    "# file names\n",
    "cfg = path + 'yolov4_tiny_test.cfg'\n",
    "weights = path + 'yolov4_tiny_train_best.weights'\n",
    "\n",
    "# the classes where refined for to help deminstrate the ability \n",
    "#   to intergate hand gestures to an outside python program\n",
    "\n",
    "classes_path = path + 'classes.names'"
   ]
  },
  {
   "cell_type": "code",
   "execution_count": 5,
   "metadata": {},
   "outputs": [],
   "source": [
    "# loading weights and model \n",
    "#     & \n",
    "# Loads in class Names\n",
    "\n",
    "\"\"\"\n",
    "\n",
    "\"\"\"\n",
    "net = cv2.dnn.readNetFromDarknet(cfg, weights)\n",
    "\n",
    "with open(classes_path, \"r\") as f:\n",
    "    classes = [line.strip() for line in f.readlines()]"
   ]
  },
  {
   "cell_type": "code",
   "execution_count": 6,
   "metadata": {},
   "outputs": [],
   "source": [
    "# Layers of Neaural Network\n",
    "layer_names = net.getLayerNames()\n",
    "\n",
    "#Determine the output layer names from the YOL\n",
    "output_layers = [layer_names[i[0] - 1] for i in net.getUnconnectedOutLayers()]"
   ]
  },
  {
   "cell_type": "code",
   "execution_count": 7,
   "metadata": {},
   "outputs": [],
   "source": [
    "\"\"\"\n",
    "    this function communicates to the move-2.txt file that the turtle file reads. \n",
    "\n",
    "\"\"\"\n",
    "# resets movement to 0\n",
    "\n",
    "def turtle_reset(_flag, time_passed):  \n",
    "    \n",
    "    if (_flag == True) & ((time.time() - time_passed)  > 5):\n",
    "        with open('move-2.txt', 'w') as com:\n",
    "            com.write('0')\n",
    "        _flag = False\n",
    "        print(f'file reset {(time.time() - time_passed)}')\n",
    "    return _flag\n",
    "\n",
    "# changes movement number\n",
    "\n",
    "def turtle_talk(_flag, _time_passed, theclass):  \n",
    "   # debugging  \n",
    "    #print('in turtle talk')\n",
    "    #print((time.time() - _time_passed) < 1)\n",
    "    #print()\n",
    "    #print(theclass)\n",
    "    #print(theclass == 'run program')\n",
    "    \n",
    "   # wait time between senses \n",
    "    if (time.time() - _time_passed) < 5:\n",
    "        return\n",
    "    \n",
    "    if theclass == 'back':\n",
    "        with open('move-2.txt', 'w') as com:    # 1\n",
    "            com.write('1')\n",
    "        timeflag = time.time()\n",
    "        _flag = True\n",
    "    elif theclass == 'star': \n",
    "        with open('move-2.txt', 'w') as com:    # 2\n",
    "            com.write('2')\n",
    "        timeflag = time.time()\n",
    "        _flag = True\n",
    "        \n",
    "    elif theclass == 'octagon':\n",
    "        with open('move-2.txt', 'w') as com:    # 3 \n",
    "            com.write('3')\n",
    "            \n",
    "    elif theclass == 'orbe':\n",
    "        with open('move-2.txt', 'w') as com:    # 5 \n",
    "            com.write('5')\n",
    "        timeflag = time.time()\n",
    "        _flag = True\n",
    "        \n",
    "    elif theclass == 'hexagon':\n",
    "        with open('move-2.txt', 'w') as com:    # 6\n",
    "            com.write('6')\n",
    "            \n",
    "    elif theclass == 'magic':\n",
    "        with open('move-2.txt', 'w') as com:    # 7 \n",
    "            com.write('7')\n",
    "        timeflag = time.time()\n",
    "        _flag = True\n",
    "        \n",
    "    elif theclass == 'run':\n",
    "        with open('move-2.txt', 'w') as com:    # 8\n",
    "            com.write('8')\n",
    "        timeflag = time.time()\n",
    "        _flag = True\n",
    "    return _time_passed, _flag"
   ]
  },
  {
   "cell_type": "code",
   "execution_count": 8,
   "metadata": {},
   "outputs": [],
   "source": [
    " with open('move-2.txt', 'w') as com:\n",
    "            com.write('0')"
   ]
  },
  {
   "cell_type": "markdown",
   "metadata": {},
   "source": [
    "--- "
   ]
  },
  {
   "cell_type": "markdown",
   "metadata": {},
   "source": [
    "#### Capture webvideo"
   ]
  },
  {
   "cell_type": "code",
   "execution_count": 9,
   "metadata": {},
   "outputs": [],
   "source": [
    "cap = cv2.VideoCapture(0)\n",
    "flag = True"
   ]
  },
  {
   "cell_type": "code",
   "execution_count": 10,
   "metadata": {},
   "outputs": [],
   "source": [
    "# var primers\n",
    "\n",
    "time_passed = 0 \n",
    "\n",
    "while True:\n",
    "    \n",
    "    \n",
    "    # Capture frame-by-frame\n",
    "    \n",
    "    re,img = cap.read()\n",
    "    \n",
    "    img = cv2.resize(img, None, fx=0.4, fy=0.4)\n",
    "    height, width, channels = img.shape\n",
    "\n",
    "    # creating a 412x412 square\n",
    "    blob = cv2.dnn.blobFromImage(img, 1 / 255.0, (416, 416),\n",
    "    swapRB=True, crop=False)\n",
    "    \n",
    "    \n",
    "    \n",
    "    #Detecting objects\n",
    "    net.setInput(blob)\n",
    "    outs = net.forward(output_layers)\n",
    "\n",
    "    \n",
    "    # vissualizeing the results \n",
    "    class_ids = []\n",
    "    confidences = []\n",
    "    boxes = []\n",
    "    for out in outs:\n",
    "        \n",
    "        for detection in out:\n",
    "            scores = detection[5:]\n",
    "                # print(score)  # Debug\n",
    "            class_id = np.argmax(scores)\n",
    "            confidence = scores[class_id]\n",
    "            if confidence > 0.5: # adjust to play with accuracy\n",
    "                # Object detected\n",
    "                center_x = int(detection[0] * width)\n",
    "                center_y = int(detection[1] * height)\n",
    "                w = int(detection[2] * width)\n",
    "                h = int(detection[3] * height)\n",
    "\n",
    "                # coordinates\n",
    "                \n",
    "                x = int(center_x - w / 2)\n",
    "                y = int(center_y - h / 2)\n",
    "\n",
    "                boxes.append([x, y, w, h])\n",
    "                confidences.append(float(confidence))\n",
    "                class_ids.append(class_id)\n",
    "    \n",
    "    \n",
    "   \n",
    "    #  score <  nms threshold as arguments.\n",
    "\n",
    "    indexes = cv2.dnn.NMSBoxes(boxes, confidences, 0.5, 0.4)\n",
    "    #print(indexes) # debug\n",
    "   # font for us \n",
    "    font = cv2.FONT_HERSHEY_PLAIN\n",
    "    colors = np.random.uniform(0, 255, size=(len(classes), 3))\n",
    "    for i in range(len(boxes)):\n",
    "        if i in indexes:\n",
    "            x, y, w, h = boxes[i]\n",
    "            label = str(classes[class_ids[i]])\n",
    "            color = colors[class_ids[i]]\n",
    "            cv2.rectangle(img, (x, y), (x + w, y + h), color, 2)\n",
    "            cv2.putText(img, label, (x, y + 30), font, 2, color, 3)\n",
    "            # updates move.txt for tutle move\n",
    "            time_passed, flag = turtle_talk(flag, time_passed, label)\n",
    "            \n",
    "   #resets move.txt file\n",
    "    #flag = turtle_reset(flag, time_passed)        \n",
    "    cv2.imshow(\"Image\",cv2.resize(img, (600,400)))\n",
    "    if cv2.waitKey(1) & 0xFF == ord('q'):\n",
    "        break\n",
    "        \n",
    "cap.release()\n",
    "cv2.destroyAllWindows()"
   ]
  },
  {
   "cell_type": "code",
   "execution_count": null,
   "metadata": {},
   "outputs": [],
   "source": []
  },
  {
   "cell_type": "code",
   "execution_count": null,
   "metadata": {},
   "outputs": [],
   "source": []
  }
 ],
 "metadata": {
  "kernelspec": {
   "display_name": "Python 3",
   "language": "python",
   "name": "python3"
  },
  "language_info": {
   "codemirror_mode": {
    "name": "ipython",
    "version": 3
   },
   "file_extension": ".py",
   "mimetype": "text/x-python",
   "name": "python",
   "nbconvert_exporter": "python",
   "pygments_lexer": "ipython3",
   "version": "3.8.2"
  }
 },
 "nbformat": 4,
 "nbformat_minor": 4
}
