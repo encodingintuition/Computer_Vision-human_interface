{
 "cells": [
  {
   "cell_type": "code",
   "execution_count": null,
   "metadata": {},
   "outputs": [],
   "source": [
    "An executive summary:\n",
    "What is your goal?\n",
    "Where did you get your data?\n",
    "What are your metrics?\n",
    "What were your findings?\n",
    "What risks/limitations/assumptions affect these findings?\n",
    "\n",
    "\n",
    "Summarize your statistical analysis, including:\n",
    "implementation\n",
    "evaluation\n",
    "inference\n",
    "\n",
    "Clearly document and label each section of your notebook(s)\n",
    "\n",
    "Logically organize your information in a persuasive, informative manner.\n",
    "\n",
    "Include notebook headers and subheaders, as well as clearly formatted markdown for all written components.\n",
    "Include graphs/plots/visualizations with clear labels.\n",
    "\n",
    "Comment and explain the purpose of each major section/subsection of your code.\n",
    "\n",
    "Document your code for your future self, as if another person needed to replicate your approach.\n",
    "\n",
    "Clearly document all of your decision points in the relevant sections\n",
    "How did you acquire your data?\n",
    "How did you transform or engineer your data? Why?\n",
    "How did you select your model?\n",
    "How did you optimize hyperparameters?\n",
    "\n",
    "Host your notebook and any other materials in your own public Github Repository.\n",
    "\n",
    "You repo should have README file that guides us through the repository and links to important files.\n",
    "\n",
    "Include links and explanations to any outside libraries or source code used.\n",
    "\n",
    "Host a copy of your dataset or include a link to a remotely hosted version."
   ]
  }
 ],
 "metadata": {
  "kernelspec": {
   "display_name": "Python 3",
   "language": "python",
   "name": "python3"
  },
  "language_info": {
   "codemirror_mode": {
    "name": "ipython",
    "version": 3
   },
   "file_extension": ".py",
   "mimetype": "text/x-python",
   "name": "python",
   "nbconvert_exporter": "python",
   "pygments_lexer": "ipython3",
   "version": "3.8.2"
  }
 },
 "nbformat": 4,
 "nbformat_minor": 4
}
