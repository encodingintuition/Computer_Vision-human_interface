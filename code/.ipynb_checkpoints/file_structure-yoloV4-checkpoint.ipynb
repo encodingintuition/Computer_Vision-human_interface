{
 "cells": [
  {
   "cell_type": "code",
   "execution_count": null,
   "metadata": {},
   "outputs": [],
   "source": []
  },
  {
   "cell_type": "code",
   "execution_count": 2,
   "metadata": {},
   "outputs": [],
   "source": [
    "import os"
   ]
  },
  {
   "cell_type": "code",
   "execution_count": null,
   "metadata": {},
   "outputs": [],
   "source": []
  },
  {
   "cell_type": "markdown",
   "metadata": {},
   "source": [
    "#### darknet/data/"
   ]
  },
  {
   "cell_type": "code",
   "execution_count": null,
   "metadata": {},
   "outputs": [],
   "source": [
    "# yolov4.data\n",
    "\n",
    "\"\"\"\n",
    "\n",
    "classes = 4\n",
    "train = data/train.txt\n",
    "valid = data/test.txt\n",
    "names = data/classes.names\n",
    "backup = backup\n",
    "\n",
    "\"\"\"\n"
   ]
  },
  {
   "cell_type": "code",
   "execution_count": null,
   "metadata": {},
   "outputs": [],
   "source": [
    "#   classes.names\n",
    "#   test.txt\n",
    "#   train.txt\n",
    "#   myfolder - img n text"
   ]
  },
  {
   "cell_type": "code",
   "execution_count": null,
   "metadata": {},
   "outputs": [],
   "source": [
    "# classes.names\n",
    "\n",
    "#each line is a class, the first line is class 0 , and so on\n",
    "\"\"\"\n",
    "first class      0\n",
    "second class     1\n",
    "third class      2 \n",
    "forth class      3\n",
    "\n",
    "\n",
    "ex:\n",
    "\n",
    "speed limit\n",
    "yield\n",
    "mandatory\n",
    "other\n",
    "\n",
    "\"\"\"\n"
   ]
  },
  {
   "cell_type": "code",
   "execution_count": null,
   "metadata": {},
   "outputs": [],
   "source": [
    "# test.txt file \n",
    "\n",
    "\"\"\"\n",
    "\n",
    "data/myfolder/file.jpg\n",
    "data/myfolder/file.jpg\n",
    "data/myfolder/file.jpg\n",
    "data/myfolder/file.jpg\n",
    "data/myfolder/file.jpg\n",
    "data/myfolder/file.jpg\n",
    "data/myfolder/file.jpg\n",
    "\n",
    "ex:\n",
    "\n",
    "data/cars/00686.jpg\n",
    "data/cars/00703.jpg\n",
    "data/cars/00189.jpg\n",
    "data/cars/00100.jpg\n",
    "data/cars/00874.jpg\n",
    "\"\"\""
   ]
  },
  {
   "cell_type": "code",
   "execution_count": null,
   "metadata": {},
   "outputs": [],
   "source": [
    "# train.txt file \n",
    "\n",
    "\"\"\"\n",
    "\n",
    "data/myfolder/fil.jpg\n",
    "data/myfolder/file.jpg\n",
    "data/myfolder/file.jpg\n",
    "data/myfolder/file.jpg\n",
    "data/myfolder/file.jpg\n",
    "data/myfolder/file.jpg\n",
    "data/myfolder/file.jpg\n",
    "\n",
    "ex:\n",
    "\n",
    "data/cars/00682.jpg\n",
    "data/cars/00712.jpg\n",
    "data/cars/00144.jpg\n",
    "data/cars/00111.jpg\n",
    "data/cars/00853.jpg\n",
    "\"\"\""
   ]
  },
  {
   "cell_type": "code",
   "execution_count": null,
   "metadata": {},
   "outputs": [],
   "source": [
    "# myfolder\n",
    "\n",
    "\"\"\"\n",
    "file_001.jpg\n",
    "file_001.txt\n",
    "file_002.jpg\n",
    "file_002.txt\n",
    "file_003.jpg\n",
    "file_003.txt\n",
    "file_004.jpg\n",
    "file_004.txt\n",
    "\n",
    "\"\"\""
   ]
  },
  {
   "cell_type": "code",
   "execution_count": null,
   "metadata": {},
   "outputs": [],
   "source": [
    "# contants of txt file\n",
    "# data/myfolder/file.txt\n",
    "\n",
    "# ex. contants of file_0001.txt\n",
    "\"\"\"\n",
    "0 0.586764705882353 0.59125 0.01911764705882353 0.0325\n",
    "3 0.5863970588235294 0.553125 0.027205882352941177 0.04625\n",
    "\n",
    "\n",
    "\"\"\"\n",
    "\n",
    "# where 0 & 3  are the classes \n",
    "\n",
    "\n",
    "\n"
   ]
  },
  {
   "cell_type": "markdown",
   "metadata": {},
   "source": [
    "# File Managment for Yolo V4 - darkNet"
   ]
  },
  {
   "cell_type": "code",
   "execution_count": 21,
   "metadata": {},
   "outputs": [
    {
     "data": {
      "text/plain": [
       "'/Users/metamorphosis/Github/yolov4_darknet'"
      ]
     },
     "execution_count": 21,
     "metadata": {},
     "output_type": "execute_result"
    }
   ],
   "source": [
    "# pwd  - where are we - \n",
    "\n",
    "#os.getcwd()"
   ]
  },
  {
   "cell_type": "code",
   "execution_count": 20,
   "metadata": {},
   "outputs": [
    {
     "name": "stdout",
     "output_type": "stream",
     "text": [
      "/Users/metamorphosis/Github/yolov4_darknet\n"
     ]
    }
   ],
   "source": [
    "# takes me to root dir\n",
    "\n",
    "#%cd /Users/metamorphosis/Github/yolov4_darknet"
   ]
  },
  {
   "cell_type": "code",
   "execution_count": 22,
   "metadata": {},
   "outputs": [
    {
     "name": "stdout",
     "output_type": "stream",
     "text": [
      "/Users/metamorphosis/Github/yolov4_darknet/data-in\n"
     ]
    }
   ],
   "source": [
    "# move to where data is\n",
    "\n",
    "#%cd data-in"
   ]
  },
  {
   "cell_type": "code",
   "execution_count": 45,
   "metadata": {},
   "outputs": [
    {
     "name": "stdout",
     "output_type": "stream",
     "text": [
      "\u001b[34mtest\u001b[m\u001b[m  \u001b[34mtrain\u001b[m\u001b[m \u001b[34mvalid\u001b[m\u001b[m\n"
     ]
    }
   ],
   "source": [
    "!ls"
   ]
  },
  {
   "cell_type": "code",
   "execution_count": 41,
   "metadata": {},
   "outputs": [
    {
     "name": "stdout",
     "output_type": "stream",
     "text": [
      "\u001b[34mlabels\u001b[m\u001b[m/\n"
     ]
    }
   ],
   "source": [
    "%ls ../darknet/data "
   ]
  },
  {
   "cell_type": "code",
   "execution_count": 43,
   "metadata": {},
   "outputs": [],
   "source": [
    "# creates class name file \n",
    "\n",
    "%cp train/_darknet.labels ../darknet/data/classes.names"
   ]
  },
  {
   "cell_type": "code",
   "execution_count": 16,
   "metadata": {},
   "outputs": [
    {
     "name": "stdout",
     "output_type": "stream",
     "text": [
      "[Errno 2] No such file or directory: '../darknet'\n",
      "/Users/metamorphosis/Github\n"
     ]
    }
   ],
   "source": [
    "%cd ../darknet"
   ]
  },
  {
   "cell_type": "code",
   "execution_count": 7,
   "metadata": {},
   "outputs": [
    {
     "name": "stdout",
     "output_type": "stream",
     "text": [
      "classes.names               \u001b[34mold_train_cleaned\u001b[m\u001b[m\n",
      "convert_class_of_txt.ipynb  \u001b[34mold_valid_cleaned\u001b[m\u001b[m\n",
      "file_structure-yoloV4.ipynb \u001b[34mtrain\u001b[m\u001b[m\n",
      "\u001b[34mhand\u001b[m\u001b[m                        \u001b[34mvalid\u001b[m\u001b[m\n"
     ]
    }
   ],
   "source": [
    " !ls "
   ]
  },
  {
   "cell_type": "code",
   "execution_count": 13,
   "metadata": {},
   "outputs": [
    {
     "name": "stdout",
     "output_type": "stream",
     "text": [
      "Next c to start with: 1278\n"
     ]
    }
   ],
   "source": [
    "\"\"\"\n",
    "    To rename files from a directory \n",
    "\n",
    "\"\"\"\n",
    "\n",
    "dir_path = 'train'\n",
    "prefix_name = 'hand_turtle'\n",
    "c = 88\n",
    "\n",
    "# create #test \n",
    "\n",
    "files = os.listdir(dir_path)\n",
    "# creates 2 lists 1 for jpg,  1 for txt\n",
    "\n",
    "jpg_f = [ file for file in files if file.split('.')[-1] == 'jpg' ]\n",
    "txt_f = [ file for file in files if file.split('.')[-1] == 'txt' ]\n",
    "# zeros counter\n",
    "\n",
    "# loop \n",
    "\n",
    "for jpg, txt in zip(jpg_f,txt_f):\n",
    "    # creates new file name\n",
    "    new_jpg = prefix_name + '_' + str(c).zfill(5) + '.jpg'\n",
    "    new_txt = prefix_name + '_' + str(c).zfill(5) + '.txt'\n",
    "   # renames the files\n",
    "    \n",
    "    os.rename(dir_path + '/' + jpg, dir_path+'/' + new_jpg)\n",
    "    os.rename(dir_path + '/' + txt, dir_path+'/' + new_txt)\n",
    "    # updates counter\n",
    "    \n",
    "    c += 1\n",
    "\n",
    "\n",
    "print(f'Next c to start with: {c}')"
   ]
  },
  {
   "cell_type": "code",
   "execution_count": 9,
   "metadata": {},
   "outputs": [
    {
     "name": "stdout",
     "output_type": "stream",
     "text": [
      "classes.names               \u001b[34mold_train_cleaned\u001b[m\u001b[m\n",
      "convert_class_of_txt.ipynb  \u001b[34mold_valid_cleaned\u001b[m\u001b[m\n",
      "file_structure-yoloV4.ipynb \u001b[34mtrain\u001b[m\u001b[m\n",
      "\u001b[34mhand\u001b[m\u001b[m                        \u001b[34mvalid\u001b[m\u001b[m\n"
     ]
    }
   ],
   "source": [
    "!ls "
   ]
  },
  {
   "cell_type": "code",
   "execution_count": 15,
   "metadata": {},
   "outputs": [],
   "source": [
    "\"\"\"\n",
    "    creates a .txt list\n",
    "\n",
    "\"\"\"\n",
    "\n",
    "\n",
    "dir_path = 'train'\n",
    "txt_name = 'train'\n",
    "\n",
    "# create #test \n",
    "\n",
    "files = os.listdir(dir_path)\n",
    "\n",
    "with open( dir_path + '/' + txt_name  +'.txt', 'w') as out:\n",
    "    # loop for rows\n",
    "    \n",
    "    for file in files:\n",
    "        if file.split('.')[-1] == 'jpg':\n",
    "            out.write('data/obj/' + file + '\\n')\n",
    "    \n",
    "out.close()    "
   ]
  },
  {
   "cell_type": "code",
   "execution_count": 50,
   "metadata": {},
   "outputs": [
    {
     "data": {
      "text/plain": [
       "145"
      ]
     },
     "execution_count": 50,
     "metadata": {},
     "output_type": "execute_result"
    }
   ],
   "source": [
    "len(os.listdir('test'))"
   ]
  },
  {
   "cell_type": "code",
   "execution_count": 107,
   "metadata": {},
   "outputs": [
    {
     "name": "stdout",
     "output_type": "stream",
     "text": [
      "/Users/metamorphosis/Github/yolov4_darknet/data-in\n"
     ]
    }
   ],
   "source": [
    "!pwd"
   ]
  },
  {
   "cell_type": "code",
   "execution_count": 109,
   "metadata": {},
   "outputs": [
    {
     "name": "stdout",
     "output_type": "stream",
     "text": [
      "/Users/metamorphosis/Github/yolov4_darknet/data-in/train\n"
     ]
    }
   ],
   "source": [
    "%cd train"
   ]
  },
  {
   "cell_type": "code",
   "execution_count": 116,
   "metadata": {},
   "outputs": [
    {
     "data": {
      "text/plain": [
       "26"
      ]
     },
     "execution_count": 116,
     "metadata": {},
     "output_type": "execute_result"
    }
   ],
   "source": [
    "def file_len(fname):\n",
    "    with open(fname) as f:\n",
    "        for i, l in enumerate(f, start = 1):\n",
    "            pass\n",
    "    return i\n",
    "\n",
    "file_len('_darknet.labels')"
   ]
  },
  {
   "cell_type": "code",
   "execution_count": null,
   "metadata": {},
   "outputs": [],
   "source": []
  }
 ],
 "metadata": {
  "kernelspec": {
   "display_name": "Python 3",
   "language": "python",
   "name": "python3"
  },
  "language_info": {
   "codemirror_mode": {
    "name": "ipython",
    "version": 3
   },
   "file_extension": ".py",
   "mimetype": "text/x-python",
   "name": "python",
   "nbconvert_exporter": "python",
   "pygments_lexer": "ipython3",
   "version": "3.8.2"
  }
 },
 "nbformat": 4,
 "nbformat_minor": 4
}
